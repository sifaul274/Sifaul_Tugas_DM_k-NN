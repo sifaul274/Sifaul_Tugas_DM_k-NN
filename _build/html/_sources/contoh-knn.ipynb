{
 "cells": [
  {
   "cell_type": "markdown",
   "id": "ce7ad151",
   "metadata": {},
   "source": [
    "# Contoh Program kNN Classification\n",
    "Berikut adalah contoh program kNN klasifikasi yang dibuat menggunakan bahasa pemrograman python.\n",
    "\n",
    "## Data Latih\n",
    "Pertama, disediakan data latih yang berisi 2 fitur dan targetnya. Dua fitur tersebut yaitu ***weather*** (cuaca) dan ***temp*** (temperatur). Kemudian targetnya adalah ***play*** (bermain). Target (***play***) akan bernilai *Yes* (bermain) atau *No* (tidak bermain) tergantung pada nilai kedua fitur."
   ]
  },
  {
   "cell_type": "code",
   "execution_count": 1,
   "id": "5c558002",
   "metadata": {},
   "outputs": [],
   "source": [
    "# Data Fitur 1\n",
    "weather=['Sunny','Sunny','Overcast','Rainy','Rainy','Rainy','Overcast','Sunny','Sunny',\n",
    "'Rainy','Sunny','Overcast','Overcast','Rainy']\n",
    "# Data Fitur 2\n",
    "temp=['Hot','Hot','Hot','Mild','Cool','Cool','Cool','Mild','Cool','Mild','Mild','Mild','Hot','Mild']\n",
    "\n",
    "# Target\n",
    "play=['No','No','Yes','Yes','Yes','No','Yes','No','Yes','Yes','Yes','Yes','Yes','No']"
   ]
  },
  {
   "cell_type": "markdown",
   "id": "b650db6f",
   "metadata": {},
   "source": [
    "## Mengubah Data String Menjadi Angka\n",
    "Untuk mengubah data fitur dan target yang bertipe string menjadi data numerik, dapat menggunakan LabelEncoder yang bisa diimport dari `scikit-learn`."
   ]
  },
  {
   "cell_type": "code",
   "execution_count": 2,
   "id": "a7554eba",
   "metadata": {},
   "outputs": [],
   "source": [
    "# Import LabelEncoder\n",
    "from sklearn import preprocessing\n",
    "# Membuat LabelEncoder\n",
    "le = preprocessing.LabelEncoder()"
   ]
  },
  {
   "cell_type": "code",
   "execution_count": 3,
   "id": "bad74e89",
   "metadata": {},
   "outputs": [
    {
     "name": "stdout",
     "output_type": "stream",
     "text": [
      "weather:\n",
      "[2 2 0 1 1 1 0 2 2 1 2 0 0 1]\n",
      "\n",
      "temp:\n",
      "[1 1 1 2 0 0 0 2 0 2 2 2 1 2]\n",
      "\n",
      "play:\n",
      "[0 0 1 1 1 0 1 0 1 1 1 1 1 0]\n"
     ]
    }
   ],
   "source": [
    "# Mengubah data string menjadi angka\n",
    "weather_encoded=le.fit_transform(weather)\n",
    "print(\"weather:\")\n",
    "print(weather_encoded)\n",
    "print(\"\")\n",
    "temp_encoded=le.fit_transform(temp)\n",
    "print(\"temp:\")\n",
    "print(temp_encoded)\n",
    "print(\"\")\n",
    "label=le.fit_transform(play)\n",
    "print(\"play:\")\n",
    "print(label)"
   ]
  },
  {
   "cell_type": "markdown",
   "id": "ebd4133e",
   "metadata": {},
   "source": [
    "Pada hasil pengubahan data diatas, untuk baris pertama yaitu fitur ***weather***, nilai **0** mewakili *Overcast*, nilai **1** mewakili *Rainy*, dan **2** mewakili *Sunny*. Untuk baris kedua yaitu fitur ***temp***, nilai **0** mewakili *Cool*, nilai **1** mewakili *Hot*, dan nilai **2** mewakili *Mild*. Kemudian untuk baris ketiga yaitu ***play***, nilai **0** mewakili *No* dan **1** mewakili *Yes*."
   ]
  },
  {
   "cell_type": "code",
   "execution_count": 4,
   "id": "0e953f04",
   "metadata": {},
   "outputs": [],
   "source": [
    "# Menggabungkan data weather dan temp menjadi satu tuple\n",
    "features=list(zip(weather_encoded,temp_encoded))"
   ]
  },
  {
   "cell_type": "markdown",
   "id": "d8c79c51",
   "metadata": {},
   "source": [
    "## Membuat Model\n",
    "Langkah berikutnya adalah membuat model dan melatih model menggunakan data latih."
   ]
  },
  {
   "cell_type": "code",
   "execution_count": 5,
   "id": "26c4012a",
   "metadata": {},
   "outputs": [
    {
     "data": {
      "text/html": [
       "<style>#sk-container-id-1 {color: black;background-color: white;}#sk-container-id-1 pre{padding: 0;}#sk-container-id-1 div.sk-toggleable {background-color: white;}#sk-container-id-1 label.sk-toggleable__label {cursor: pointer;display: block;width: 100%;margin-bottom: 0;padding: 0.3em;box-sizing: border-box;text-align: center;}#sk-container-id-1 label.sk-toggleable__label-arrow:before {content: \"▸\";float: left;margin-right: 0.25em;color: #696969;}#sk-container-id-1 label.sk-toggleable__label-arrow:hover:before {color: black;}#sk-container-id-1 div.sk-estimator:hover label.sk-toggleable__label-arrow:before {color: black;}#sk-container-id-1 div.sk-toggleable__content {max-height: 0;max-width: 0;overflow: hidden;text-align: left;background-color: #f0f8ff;}#sk-container-id-1 div.sk-toggleable__content pre {margin: 0.2em;color: black;border-radius: 0.25em;background-color: #f0f8ff;}#sk-container-id-1 input.sk-toggleable__control:checked~div.sk-toggleable__content {max-height: 200px;max-width: 100%;overflow: auto;}#sk-container-id-1 input.sk-toggleable__control:checked~label.sk-toggleable__label-arrow:before {content: \"▾\";}#sk-container-id-1 div.sk-estimator input.sk-toggleable__control:checked~label.sk-toggleable__label {background-color: #d4ebff;}#sk-container-id-1 div.sk-label input.sk-toggleable__control:checked~label.sk-toggleable__label {background-color: #d4ebff;}#sk-container-id-1 input.sk-hidden--visually {border: 0;clip: rect(1px 1px 1px 1px);clip: rect(1px, 1px, 1px, 1px);height: 1px;margin: -1px;overflow: hidden;padding: 0;position: absolute;width: 1px;}#sk-container-id-1 div.sk-estimator {font-family: monospace;background-color: #f0f8ff;border: 1px dotted black;border-radius: 0.25em;box-sizing: border-box;margin-bottom: 0.5em;}#sk-container-id-1 div.sk-estimator:hover {background-color: #d4ebff;}#sk-container-id-1 div.sk-parallel-item::after {content: \"\";width: 100%;border-bottom: 1px solid gray;flex-grow: 1;}#sk-container-id-1 div.sk-label:hover label.sk-toggleable__label {background-color: #d4ebff;}#sk-container-id-1 div.sk-serial::before {content: \"\";position: absolute;border-left: 1px solid gray;box-sizing: border-box;top: 0;bottom: 0;left: 50%;z-index: 0;}#sk-container-id-1 div.sk-serial {display: flex;flex-direction: column;align-items: center;background-color: white;padding-right: 0.2em;padding-left: 0.2em;position: relative;}#sk-container-id-1 div.sk-item {position: relative;z-index: 1;}#sk-container-id-1 div.sk-parallel {display: flex;align-items: stretch;justify-content: center;background-color: white;position: relative;}#sk-container-id-1 div.sk-item::before, #sk-container-id-1 div.sk-parallel-item::before {content: \"\";position: absolute;border-left: 1px solid gray;box-sizing: border-box;top: 0;bottom: 0;left: 50%;z-index: -1;}#sk-container-id-1 div.sk-parallel-item {display: flex;flex-direction: column;z-index: 1;position: relative;background-color: white;}#sk-container-id-1 div.sk-parallel-item:first-child::after {align-self: flex-end;width: 50%;}#sk-container-id-1 div.sk-parallel-item:last-child::after {align-self: flex-start;width: 50%;}#sk-container-id-1 div.sk-parallel-item:only-child::after {width: 0;}#sk-container-id-1 div.sk-dashed-wrapped {border: 1px dashed gray;margin: 0 0.4em 0.5em 0.4em;box-sizing: border-box;padding-bottom: 0.4em;background-color: white;}#sk-container-id-1 div.sk-label label {font-family: monospace;font-weight: bold;display: inline-block;line-height: 1.2em;}#sk-container-id-1 div.sk-label-container {text-align: center;}#sk-container-id-1 div.sk-container {/* jupyter's `normalize.less` sets `[hidden] { display: none; }` but bootstrap.min.css set `[hidden] { display: none !important; }` so we also need the `!important` here to be able to override the default hidden behavior on the sphinx rendered scikit-learn.org. See: https://github.com/scikit-learn/scikit-learn/issues/21755 */display: inline-block !important;position: relative;}#sk-container-id-1 div.sk-text-repr-fallback {display: none;}</style><div id=\"sk-container-id-1\" class=\"sk-top-container\"><div class=\"sk-text-repr-fallback\"><pre>KNeighborsClassifier(n_neighbors=3)</pre><b>In a Jupyter environment, please rerun this cell to show the HTML representation or trust the notebook. <br />On GitHub, the HTML representation is unable to render, please try loading this page with nbviewer.org.</b></div><div class=\"sk-container\" hidden><div class=\"sk-item\"><div class=\"sk-estimator sk-toggleable\"><input class=\"sk-toggleable__control sk-hidden--visually\" id=\"sk-estimator-id-1\" type=\"checkbox\" checked><label for=\"sk-estimator-id-1\" class=\"sk-toggleable__label sk-toggleable__label-arrow\">KNeighborsClassifier</label><div class=\"sk-toggleable__content\"><pre>KNeighborsClassifier(n_neighbors=3)</pre></div></div></div></div></div>"
      ],
      "text/plain": [
       "KNeighborsClassifier(n_neighbors=3)"
      ]
     },
     "execution_count": 5,
     "metadata": {},
     "output_type": "execute_result"
    }
   ],
   "source": [
    "# Membuat model\n",
    "from sklearn.neighbors import KNeighborsClassifier\n",
    "\n",
    "model = KNeighborsClassifier(n_neighbors=3)\n",
    "\n",
    "# Melatih model\n",
    "model.fit(features,label)"
   ]
  },
  {
   "cell_type": "markdown",
   "id": "de006075",
   "metadata": {},
   "source": [
    "## Memprediksi\n",
    "Lalu kita coba untuk memprediksi nilai target (***play***) menggunakan fitur yang kita tentukan sendiri, misalnya ***weather*** bernilai *Sunny* (**2**) dan ***temp*** bernilai *Hot* (**1**)."
   ]
  },
  {
   "cell_type": "code",
   "execution_count": 6,
   "id": "ce5b4c5c",
   "metadata": {},
   "outputs": [
    {
     "name": "stdout",
     "output_type": "stream",
     "text": [
      "No\n"
     ]
    }
   ],
   "source": [
    "# Memprediksi\n",
    "predicted= model.predict([[2,1]]) # 2:Sunny, 1:Hot\n",
    "if predicted==1:\n",
    "    print(\"Yes\")\n",
    "else:\n",
    "    print(\"No\")"
   ]
  }
 ],
 "metadata": {
  "jupytext": {
   "cell_metadata_filter": "-all",
   "formats": "md:myst",
   "text_representation": {
    "extension": ".md",
    "format_name": "myst",
    "format_version": 0.13,
    "jupytext_version": "1.11.5"
   }
  },
  "kernelspec": {
   "display_name": "Python 3",
   "language": "python",
   "name": "python3"
  },
  "language_info": {
   "codemirror_mode": {
    "name": "ipython",
    "version": 3
   },
   "file_extension": ".py",
   "mimetype": "text/x-python",
   "name": "python",
   "nbconvert_exporter": "python",
   "pygments_lexer": "ipython3",
   "version": "3.10.4"
  },
  "source_map": [
   14,
   21,
   30,
   33,
   39,
   52,
   54,
   57,
   60,
   68,
   71
  ]
 },
 "nbformat": 4,
 "nbformat_minor": 5
}